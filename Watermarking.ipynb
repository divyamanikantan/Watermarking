{
 "cells": [
  {
   "cell_type": "markdown",
   "metadata": {},
   "source": [
    "## Importing relevant libraries"
   ]
  },
  {
   "cell_type": "code",
   "execution_count": 1,
   "metadata": {},
   "outputs": [],
   "source": [
    "#Import required Image library\n",
    "from PIL import Image, ImageDraw, ImageFont\n",
    "import cv2\n",
    "import numpy as np"
   ]
  },
  {
   "cell_type": "markdown",
   "metadata": {},
   "source": [
    "## Watermark using text"
   ]
  },
  {
   "cell_type": "code",
   "execution_count": 2,
   "metadata": {},
   "outputs": [],
   "source": [
    "#Create an Image Object from an Image\n",
    "im = Image.open('cars.jpg')\n",
    "width, height = im.size\n",
    "\n",
    "draw = ImageDraw.Draw(im)\n",
    "text = \"divya_manikantan_1712011_spl\"\n",
    "\n",
    "font = ImageFont.truetype('arial.ttf', 36)\n",
    "textwidth, textheight = draw.textsize(text, font)\n",
    "\n",
    "# calculate the x,y coordinates of the text\n",
    "margin = 10\n",
    "x = width - textwidth - margin\n",
    "y = height - textheight - margin\n",
    "\n",
    "# draw watermark in the bottom right corner\n",
    "draw.text((x, y), text, font=font)\n",
    "im.show()\n",
    "\n",
    "#Save watermarked image\n",
    "im.save('watermark.jpg')"
   ]
  },
  {
   "cell_type": "markdown",
   "metadata": {},
   "source": [
    "## Watermark using image"
   ]
  },
  {
   "cell_type": "code",
   "execution_count": 11,
   "metadata": {},
   "outputs": [],
   "source": [
    "Image1 = Image.open('spn.png')  \n",
    "Image1.show()\n",
    "# making a copy of the image so that the original image does not get affected \n",
    "Image1copy = Image1.copy() \n",
    "Image2 = Image.open('logo.jpg') \n",
    "new_image = Image2.resize((200, 200))\n",
    "new_image.show()\n"
   ]
  },
  {
   "cell_type": "code",
   "execution_count": 12,
   "metadata": {},
   "outputs": [],
   "source": [
    "Image2copy = new_image.copy() \n",
    "# paste image giving dimensions \n",
    "Image1copy.paste(Image2copy, (1400,500)) \n",
    "# save the image  \n",
    "Image1copy.save('watermarked.png') \n",
    "result = Image.open('watermarked.png')\n",
    "result.show()"
   ]
  }
 ],
 "metadata": {
  "kernelspec": {
   "display_name": "Python 3",
   "language": "python",
   "name": "python3"
  },
  "language_info": {
   "codemirror_mode": {
    "name": "ipython",
    "version": 3
   },
   "file_extension": ".py",
   "mimetype": "text/x-python",
   "name": "python",
   "nbconvert_exporter": "python",
   "pygments_lexer": "ipython3",
   "version": "3.7.6"
  }
 },
 "nbformat": 4,
 "nbformat_minor": 4
}
